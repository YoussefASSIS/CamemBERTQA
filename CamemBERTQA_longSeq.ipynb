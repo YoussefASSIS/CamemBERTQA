{
 "cells": [
  {
   "cell_type": "code",
   "execution_count": 1,
   "metadata": {},
   "outputs": [],
   "source": [
    "# from torch import nn\n",
    "import torch\n",
    "# from torch.utils.data import Dataset, DataLoader\n",
    "# from transformers.optimization import AdamW\n",
    "# from tqdm import trange, tqdm_notebook"
   ]
  },
  {
   "cell_type": "code",
   "execution_count": 2,
   "metadata": {},
   "outputs": [
    {
     "name": "stderr",
     "output_type": "stream",
     "text": [
      "C:\\Program Files\\Anaconda\\lib\\site-packages\\tensorflow\\python\\framework\\dtypes.py:516: FutureWarning: Passing (type, 1) or '1type' as a synonym of type is deprecated; in a future version of numpy, it will be understood as (type, (1,)) / '(1,)type'.\n",
      "  _np_qint8 = np.dtype([(\"qint8\", np.int8, 1)])\n",
      "C:\\Program Files\\Anaconda\\lib\\site-packages\\tensorflow\\python\\framework\\dtypes.py:517: FutureWarning: Passing (type, 1) or '1type' as a synonym of type is deprecated; in a future version of numpy, it will be understood as (type, (1,)) / '(1,)type'.\n",
      "  _np_quint8 = np.dtype([(\"quint8\", np.uint8, 1)])\n",
      "C:\\Program Files\\Anaconda\\lib\\site-packages\\tensorflow\\python\\framework\\dtypes.py:518: FutureWarning: Passing (type, 1) or '1type' as a synonym of type is deprecated; in a future version of numpy, it will be understood as (type, (1,)) / '(1,)type'.\n",
      "  _np_qint16 = np.dtype([(\"qint16\", np.int16, 1)])\n",
      "C:\\Program Files\\Anaconda\\lib\\site-packages\\tensorflow\\python\\framework\\dtypes.py:519: FutureWarning: Passing (type, 1) or '1type' as a synonym of type is deprecated; in a future version of numpy, it will be understood as (type, (1,)) / '(1,)type'.\n",
      "  _np_quint16 = np.dtype([(\"quint16\", np.uint16, 1)])\n",
      "C:\\Program Files\\Anaconda\\lib\\site-packages\\tensorflow\\python\\framework\\dtypes.py:520: FutureWarning: Passing (type, 1) or '1type' as a synonym of type is deprecated; in a future version of numpy, it will be understood as (type, (1,)) / '(1,)type'.\n",
      "  _np_qint32 = np.dtype([(\"qint32\", np.int32, 1)])\n",
      "C:\\Program Files\\Anaconda\\lib\\site-packages\\tensorflow\\python\\framework\\dtypes.py:525: FutureWarning: Passing (type, 1) or '1type' as a synonym of type is deprecated; in a future version of numpy, it will be understood as (type, (1,)) / '(1,)type'.\n",
      "  np_resource = np.dtype([(\"resource\", np.ubyte, 1)])\n",
      "C:\\Program Files\\Anaconda\\lib\\site-packages\\tensorboard\\compat\\tensorflow_stub\\dtypes.py:541: FutureWarning: Passing (type, 1) or '1type' as a synonym of type is deprecated; in a future version of numpy, it will be understood as (type, (1,)) / '(1,)type'.\n",
      "  _np_qint8 = np.dtype([(\"qint8\", np.int8, 1)])\n",
      "C:\\Program Files\\Anaconda\\lib\\site-packages\\tensorboard\\compat\\tensorflow_stub\\dtypes.py:542: FutureWarning: Passing (type, 1) or '1type' as a synonym of type is deprecated; in a future version of numpy, it will be understood as (type, (1,)) / '(1,)type'.\n",
      "  _np_quint8 = np.dtype([(\"quint8\", np.uint8, 1)])\n",
      "C:\\Program Files\\Anaconda\\lib\\site-packages\\tensorboard\\compat\\tensorflow_stub\\dtypes.py:543: FutureWarning: Passing (type, 1) or '1type' as a synonym of type is deprecated; in a future version of numpy, it will be understood as (type, (1,)) / '(1,)type'.\n",
      "  _np_qint16 = np.dtype([(\"qint16\", np.int16, 1)])\n",
      "C:\\Program Files\\Anaconda\\lib\\site-packages\\tensorboard\\compat\\tensorflow_stub\\dtypes.py:544: FutureWarning: Passing (type, 1) or '1type' as a synonym of type is deprecated; in a future version of numpy, it will be understood as (type, (1,)) / '(1,)type'.\n",
      "  _np_quint16 = np.dtype([(\"quint16\", np.uint16, 1)])\n",
      "C:\\Program Files\\Anaconda\\lib\\site-packages\\tensorboard\\compat\\tensorflow_stub\\dtypes.py:545: FutureWarning: Passing (type, 1) or '1type' as a synonym of type is deprecated; in a future version of numpy, it will be understood as (type, (1,)) / '(1,)type'.\n",
      "  _np_qint32 = np.dtype([(\"qint32\", np.int32, 1)])\n",
      "C:\\Program Files\\Anaconda\\lib\\site-packages\\tensorboard\\compat\\tensorflow_stub\\dtypes.py:550: FutureWarning: Passing (type, 1) or '1type' as a synonym of type is deprecated; in a future version of numpy, it will be understood as (type, (1,)) / '(1,)type'.\n",
      "  np_resource = np.dtype([(\"resource\", np.ubyte, 1)])\n"
     ]
    }
   ],
   "source": [
    "from transformers.modeling_camembert import CamembertForQuestionAnswering\n",
    "from transformers.tokenization_camembert import CamembertTokenizer"
   ]
  },
  {
   "cell_type": "code",
   "execution_count": 3,
   "metadata": {},
   "outputs": [],
   "source": [
    "camembert = CamembertForQuestionAnswering.from_pretrained('fmikaelian/camembert-base-fquad')\n",
    "tokenizer = CamembertTokenizer.from_pretrained('fmikaelian/camembert-base-fquad'\n",
    "                                               , do_lower_case=True\n",
    "                                              )"
   ]
  },
  {
   "cell_type": "code",
   "execution_count": 4,
   "metadata": {},
   "outputs": [],
   "source": [
    "def split_text(context, length = 512,overlapp= 0):     # onlyText\n",
    "    res = []\n",
    "    tokens = tokenizer.encode(context, add_special_tokens=True)\n",
    "    for i in range(0, int(len(tokens)-overlapp),(length-overlapp)):\n",
    "            text = tokenizer.decode(tokens[i:i+length])\n",
    "            text = text.replace('<s>','').replace('</s>','')\n",
    "#             text = text.replace('</s>','')\n",
    "#             print(text)\n",
    "            res.append(text)\n",
    "    return res\n",
    "# print(split_text(text, overlapp=10))\n",
    "\n",
    "\n",
    "# def split_text(question, context, overlapp= 0):      # Question and text\n",
    "#     res = []\n",
    "#     tokens = tokenizer.encode(question, context, add_special_tokens=True)\n",
    "#     for i in range(0, int(len(tokens)-overlapp),(512-overlapp)):\n",
    "#             question, text = tokenizer.decode(tokens[i:i+512])\n",
    "# #             text = text.replace('<s>','')\n",
    "# #             text = text.replace('</s>','')\n",
    "            \n",
    "#             print(text)\n",
    "#             print(\"-------------------------\")\n",
    "# #             res.append(tokens[i:i+512])\n",
    "#     return res\n",
    "\n"
   ]
  },
  {
   "cell_type": "code",
   "execution_count": 55,
   "metadata": {},
   "outputs": [],
   "source": [
    "# For each paragraph answer the question\n",
    "def select_answer(question, text):\n",
    "    # encode the question\n",
    "    encoded_question = tokenizer.encode(question,add_special_tokens=True)\n",
    "    length = len(encoded_question)\n",
    "    encoded_text = split_text(context = text, length = 509-length)   # add overlapping    510\n",
    "    max_score = 0\n",
    "    answer = \"\"\n",
    "    for split in encoded_text:\n",
    "#         print(split)\n",
    "        inp = tokenizer.encode(question, split, add_special_tokens=True)\n",
    "        input_ids = torch.tensor([inp])\n",
    "        with torch.no_grad():\n",
    "            last_hidden_states = camembert(input_ids)[0]  # Models outputs are now tuples\n",
    "            score = torch.max(last_hidden_states)\n",
    "            if (max_score < score):\n",
    "                # Update the answer\n",
    "                max_score = score\n",
    "                all_tokens = tokenizer.convert_ids_to_tokens(inp)\n",
    "                start_scores, end_scores = camembert(input_ids)\n",
    "                start = torch.argmax(start_scores)\n",
    "                end = torch.argmax(end_scores)+1\n",
    "                answer = \"\".join(all_tokens[start:end]).replace('▁',' ').strip()\n",
    "#             print(answer)\n",
    "    return answer"
   ]
  },
  {
   "cell_type": "markdown",
   "metadata": {},
   "source": [
    "# Corona wikipédia "
   ]
  },
  {
   "cell_type": "raw",
   "metadata": {},
   "source": [
    "text = \"\"\" La pandémie de Covid-19 est une pandémie d'une maladie infectieuse émergente, la maladie à coronavirus 2019 (Covid-19), provoquée par le coronavirus SARS-CoV-2. Elle apparaît le 17 novembre 2019 dans la ville de Wuhan, en Chine centrale, puis se propage dans le monde entier.\n",
    "\n",
    "L'Organisation mondiale de la santé (OMS) alerte dans un premier temps la république populaire de Chine et ses autres États membres3, puis prononce l'état d'urgence de santé publique de portée internationale le 30 janvier3.\n",
    "\n",
    "Le 13 janvier, un premier cas est découvert hors de Chine continentale. Deux navires de croisière (le MS Westerdam et le Diamond Princess) sont aussi touchés. Le nombre total de malades hors de la Chine dépasse les 1 500 à la mi-février1,4.\n",
    "\n",
    "À partir de janvier 2020, le gouvernement chinois met en œuvre des procédures lourdes de confinement, et place plusieurs villes puis toute une région en quarantaine, fermant de nombreux sites publics et déployant d'importants moyens sanitaires.[réf. nécessaire]\n",
    "\n",
    "Le 25 février, le nombre de nouveaux cas déclarés quotidiennement hors de Chine est plus élevé que dans ce pays5,6,7.\n",
    "\n",
    "Le 11 mars 2020, l'épidémie de Covid-19 est déclarée pandémie8,9 par l'OMS, qui demande des mesures de protection essentielles pour prévenir la saturation des services de soins intensifs10 et renforcer l'hygiène préventive (suppression des contacts physiques, bises et serrements de mains, fin des attroupements et des grandes manifestations ainsi que des déplacements et voyages non indispensables, promotion du lavage des mains, mise en application de quarantaine, etc.). Cette pandémie mondiale provoque des annulations en série de manifestations sportives et culturelles sur toute la planète, la mise en place par de nombreux pays de mesures de confinement pour freiner la formation de nouveaux foyers de contagion, la fermeture des frontières de nombreux pays, et un krach boursier du fait des incertitudes et des craintes qu'elle fait peser sur l'économie mondiale. Elle a aussi des effets en termes d'instabilité sociale et économique et est le prétexte à la diffusion en ligne d'informations erronées ou relevant de la théorie du complot.[réf. nécessaire]\n",
    "\n",
    "Le taux de létalité provisoire est plus bas que lors des précédentes épidémies à coronavirus11, avec pour estimation environ 1 à 2 % sur les cas dépistés12.\n",
    "\n",
    "Au 8 avril, environ 1 529 500 cas cumulés sont confirmés dans le monde, dont environ 339 500 personnes guéries et 89 500 morts4. Ce sont 214 pays et territoires qui sont touchés par cette crise sanitaire mondiale, avec des foyers majeurs en Chine, en Italie, aux États-Unis, en Espagne, en Allemagne, en Iran et en France.\n",
    "\n",
    "\"\"\"\n",
    "# question =\" quel est le taux de létalité  ?\"\n",
    "# question =\"qu'est ce qui s'est passé le 8 avril ?\"\n",
    "question = \"combien de cas confirmés dans le monde ?\"\n",
    "question = \"qu'elle est le nombre de nouveaux cas déclarés ?\""
   ]
  },
  {
   "cell_type": "markdown",
   "metadata": {},
   "source": [
    "# RQPS"
   ]
  },
  {
   "cell_type": "code",
   "execution_count": 50,
   "metadata": {},
   "outputs": [],
   "source": [
    "# Preprocessing text\n",
    "import re\n",
    "def prepro(text):\n",
    "    text = re.sub(\"[|*°«»¢]\",\"\",text).lower()\n",
    "    text = re.sub(\" oo \", \" \",text)\n",
    "    text = re.sub(r'(\\d)\\s+(\\d)', r'\\1\\2', text)\n",
    "    text = re.sub(r' ,', r',', text)\n",
    "    text = re.sub('//', '', text)\n",
    "    text = re.sub('\\s*([\\'’])\\s*', r'\\1', text)\n",
    "    text = re.sub('\\s*([.,!?$£€])\\s*', r'\\1 ', text)\n",
    "    text = re.sub(r' %', r'%', text)\n",
    "    #remove websites\n",
    "#     text = re.sub(r' ’ ', r'\\'', text)\n",
    "    return text\n",
    "\n",
    "# print(prepro(text))"
   ]
  },
  {
   "cell_type": "code",
   "execution_count": 57,
   "metadata": {},
   "outputs": [
    {
     "name": "stdout",
     "output_type": "stream",
     "text": [
      "\n",
      "eau potable 2018311 ee territoire alsace centrale votre commission locale votre president francis franck au cours de l'année 2018, la dynamique d'adhesions et d'intéegrations au sdea s'est poursuivie, traduisant ainsi la confiance croissante exprimée a l'egard de notre outil commun par de nombreuses communes et établissements publics de coopération intercommunale epc. le sdea compte ainsi désormais 668 communes membres au total, fedérant plus de 1000000 d'habitants. ces adhesions, dans les domaines historiques de i'eau potable et'assainissement, mais aussi dans le domaine plus recent du grand cycle de i'eau, permettent a la fois une capacité renforcee de mutualisation au sdea au benéfice de tous nos usagers, et une opportunite de repondre aux enjeux de l'eau dans les différents territoires, en partenariat avec les intercommunalités et les acteurs cles. dans le contexte marque par le changement climatique et les nouveaux défis environnementaux nécessitant une approche encore plus intégree du cycle de l'eau, il s'agit egalement de conforter i'excellence technique et économique de l'ensemble des interventions du sdea au service de l'interét general. d'importantes economies sont ainsi obtenues permettant de réinvestir d'autant plus dans le renouvellement et l'amélioration du patrimoine local. vos usagers perimetre oe 4936 abonnés 19575 habitants desservis périmétre créé le 01/01/2018 membre du sdea depuis 01/01/2018 vos volumes 1161630 m consommés 59 m consommeés/habitant 235 m consommés/abonné rapport annuel 2018 sur le prix et la qualité du service d’eau potable - renvoi vers le glossaire- sdea. fr 1\n",
      "\n",
      "eau potable 2018311 ee territoire alsace centrale votre patrimoine puits dont 1 puits non autorisé ne disposant pas de dup aucune source  1 réservoir capacité totale de stockage 500 m’aucune station de traitement 1 unité de désinfection  103, 698 km de conduites caracteristiques des ouvrages capacité de production capacité journaliére maxi 18000 m/jour volume prélevé journalier moyen 5555 m/jour taux de mobilisation jour moyen 31% volume prélevé journalier de pointe 6535 m/jour  taux de mobilisation jour de pointe 36% capacite de stockage volume utile des réservoirs 500 m autonomie réservoir en moyenne 0, 1 jour s  nombre d’heures d’autonomie réservoir en pointe 2 h indicateurs de performance indice de connaissance et de gestion patrimoniale des reseaux d’eau potable indice d’avancement de la protection de la ressource en eau rapport annuel 2018 sur le prix et la qualité du service d’eau potable - renvoi vers le glossaire- sdea. fr 2\n",
      "\n",
      "eau potable 2018311 ee territoire alsace centrale la qualite de votre eau chiffres cles durete de l’eau f env. 26 nitrates mg/l env. 11 controle reglementaire ars 20172018 nombre de prelevements analyses microbiologiques total nombre de prélévements analyses microbiologiques non conformes po nombre de prélevements analyses physico-chimiques total pour plus d’informations sur la qualité de l'eau, vous pouvez consulter la synthese annuelle de l'agence regionale de la sante sur http /awww. sdea. fr/index. php/usagers/l-eau-dans-la-commune. html rapport annuel 2018 sur le prix et la qualité du service d’eau potable - renvoi vers le glossaire- sdea. fr 3\n",
      "\n",
      "eau potable 2018311 ee territoire alsace centrale vos donnees financieres prix de votre eau retrouvez ci-dessous les elements constitutifs du prix de l'eau sur votre périmétre prix de l'eau par m pour 120 m norme insee part fixe 37, 44€ ht/an part variable 0, 733€ ht le m redevance eau potable du périmetre 1, 045€ ht par m pour 120 m vv vv v wv prix du service eau potable, redevances agence de i'eau et tva comprises 1, 53€ ttc par m pour 120 m 9872 factures emises dans l’année prix de l'eau par m pour 120 m =m redevance eau potable tva 5, 5% =m redevance prélevement redevance pollution domestique affectation pour 100€ de recette dépenses d'exploitation remboursement de la dette a autofinancement rapport annuel 2018 sur le prix et la qualité du service d’eau potable - renvoi vers le glossaire- sdea. fr 4\n",
      "\n",
      "eau potable 2018311 ee territoire alsace centrale montant des investissements 500000€ 400000€ 300000€ 200000€ 100000€ o€ o€ 201620172018416966€ en€ ht/an evolution des tarifs de l'eau 1, 20€ 1, 05€ 1, 05€ 1, 00€ 0, 80€ 0, 60€ 0, 40€ 0, 20€ 0, 00€ en€ ht/m 201620172018 indicateurs financiers durée d’extinction de la dette de la collectivité nd capital restant dd taux d’impayés sur factures d’eau de l'année precédente montant des abandons de creances taux de reclamations global 0, 15% 0 le périmetre de sélestat eau potable degage un résultat d'exploitation excédentaire de 862k€ . les déepenses d'exploitation sont maitrisees et en dessous du budget prévisionnel. concernant les recettes d'exploitation, elles sont superieures a celles budgétées et reprennent l'intégration du resultat de transfert a hauteur de 275k€ . les travaux d'investissement sont integralement autofinancés par le périmetre. le resultat de cloture pour l'année 2018 est excédentaire de prés de 550k€ € et la durée d'extinction de la dette inférieure a 1 an. pour plus d’informations sur les redevances, vous pouvez consulter la note d'information annuelle de agence de i’eau rhin-meuse sur http  www. eau-rhin-meuse. fr rapport annuel 2018 sur le prix et la qualité du service d’eau potable - renvoi vers le glossaire- sdea. fr 5\n",
      "\n",
      "eau potable 2018311 ee territoire alsace centrale votre reseau d’eau potable production - ventes 25000002 000000 m™ volume d'eau non facturé/pertes c m= volume autorisé non compté - 1500000 g volume exporté 1000000 m volume d'eau facturé aux gros consommateurs 500000 m volume d'eau facturé aux abonnés hors gros consommateurs 0201620172018 interruptions de service et ruptures indicateurs de performance 2018 delai maximal d'ouverture des branchements pour les nouveaux abonnés deéfini/service 48h taux d'occurrence des interruptions de service non programmeées 2, 84% 0 taux de respect du délai maximal d'ouverture des branchements pour les nouveaux abonnes 100% vina indice linéaire de réparation nb/km année indice linéaire des volumes non comptes m /km/j rapport annuel 2018 sur le prix et la qualité du service d’eau potable - renvoi vers le glossaire- sdea. fr 6\n",
      "\n",
      "eau potable 2018311 ee territoire alsace centrale appareil de defense contre l'incendie poteaux et hydrants 765 appareils 3réparations sur les poteaux d’incendie 1remplacement parc de compteurs 5012 nombre total de compteurs 35 compteurs remplacés, soit 0, 7% du parc 97% de compteurs radio-relevés nombre de ruptures reparees 4541403530 m nombre de ruptures 2018 branchements 201514 m nombre de ruptures conduites principales 106 ee 0201620172018 rendement et ilp des reseaux 8072, 7727220  o on 60153. 84 ~~ cc, c om. © ao 105 25 350 3, 0 sg 205 se o 33 —s 05 ff 201620172018 x gam rendement en% em dice linéaire de pertes en réseau rapport annuel 2018 sur le prix et la qualité du service d’eau potable - renvoi vers le glossaire- sdea. fr 7\n",
      "\n",
      "eau potable 2018311 ee territoire alsace centrale les investissements sur vos reseaux et ouvrages interventions principales sur reseaux et ouvrages les travaux de rénovation et renforcement hydraulique des reseaux du perimetre de sélestat se sont poursuivis en 2018 a selestat rue du cimetiere renforcement du debit decennal - 520 ml dn 150 - renouvellement de 30 branchements particulier. suite a programme de voirie chemin de scherwiller extension du réseau d'assainissement - 180 ml dn100 rue des glycines renovation du réseau d'eau potable - 190 ml dn 100 - renouvellement de 13 branchements particulier. suite a programme de voirie. les travaux de renovation et renforcement hydraulique des reseaux du périmetre de sélestat seront encore prolonges dans les 5 années a venir dans le cadre d'une programmation pluriannuelle. 2019 rue johann strauss renovation du réseau d'eau potable - 180 ml dn100 - reprise de 17 branchements particuliers gestion patrimonial rue de la forét renovation du reseau d'eau potable - 300 ml dn reprise de 30 branchements particulier rue antoine jean jean renovation du réseau d'eau potable - 170 ml - reprise des 10 branchements particuliers rue renouvier gouraud renforcement du reseau eau potable - 140ml en dn 250 et 130ml en dn 150 - reprise de 20 branchements particuliers rue du giessen renforcement du réseau eau potable - 80 ml en dn150 et 80 ml en dn 100 evolution des travaux sur reseaux gl rénovation/amélioration de conduites principales 8006901 ay 2600 c c o 400055b e of s 200 os © 00 0 o © 00 0€ 0 o cc wv ov 201620172018 `` 33 2 © ml extensions des conduites principales ese taux moyen sur 5 ans de renouvellement des réseaux rapport annuel 2018 sur le prix et la qualité du service d’eau potable - renvoi vers le glossaire- sdea. fr 8\n",
      "\n",
      "eau potable 2018 perimetre de selestat territoire alsace centrale votre actualite zoom sur travaux effectues et a venir les principales operations programmees en 2019 concernent travaux de renouvellement du réseau d'eau potable seuls gestion patrimoniale e rue antoine jean jean, coit estimé 100000€ ht e rue johann strauss, codt estimé 105000€ ht e rue du giessen partie, cout estime 95000€ ht travaux de renouvellement du reseau d’eau potable en commun avec des travaux d’assainissement e rue renouvier, rue gouraud, cout estimé 150000€ ht travaux de renouvellement du réseau d'eau potable avant réfection lourde de voirie e rue dela forét, coat estimé 200000€ ht selestat — rue des glycines renforcement du réseau d’eau potable rapport annuel 2018 sur le prix et la qualité du service d’eau potable - renvoi vers le glossaire- sdea. fr 9\n",
      "\n",
      "eau potable 2018 a territoire alsace centrale selestat — rue du cimetiére renforcement du réseau d’eau potable rapport annuel 2018 sur le prix et la qualité du service d’eau potable - renvoi vers le glossaire- sdea. fr 10\n",
      "\n",
      "ere ale =1183 a gi pv. s 2a ns tc portee de n 2 veal ss i cr ~— - 5 g10 gg a 2 ee s lo 039 o u aja 4026i- 21a. oropose un acces au 2 jee cal comment telecharger uapplication mobile sdea depuis une plateforme android ou ios, vous recherchez  sdea  sur play store ou app store et cliquez sur  installer. le tour est joué, vous pouvez prévenir instantanément votre service public de l'eau en cas d'urgence. quel dysfonctionnement signaler une odeur ou un godt inhabituel de l'eau une fuite d’eau ou un manque d’eau une borne incendie endommagée ou une grille manquante une inondation par refoulement des eaux usées votre signalement bien été envoyeé le sdea en prendra connaissance dans les plus brefs délais vous recevrez alors un accusé de réception par email en mages prendre une devenez acteur du service de uveau en toute simplicite, vous pouvez signaler trouver vam lies mea 1 le sdea pres dysfonctionnement de chez vous obtenir des conseils adaptés a vos besoins \\ contacter se sut ge tdt -e 24h/24, 75/7 consulter les vidéos du sdea acceder a historique de vos signalements a oba bry “ ll applicatior sdea ces une ito ih aielae appli mobile évoluera pour vous proposer bientdt de nouvelles fonctionnalités liées notamment a la gestion de l’abonnement reléve de l’index, suivi conso, paiement de la facture ainsi qu’a la prévention des inondations et coulées boueuses. le sdea prés de chez moi rapport annuel 2018 sur le prix et la qualité du service d’eau potable - video galerie vidéo géret vos pléces jointes ok renvoi vers le glossaire- 11\n",
      "\n",
      "eau potable 2018311 ee territoire alsace centrale glossaire liste des abreviations et definitions ep eau potable ars agence regionale de sante aerm agence de i’eau rhin-meuse pl perimetre intégre pp — périmétre partiellement integre ud — unite de distribution indicateurs de performance - source http www. services. eaufrance. fr/observatoire/indicateurs indice de connaissance et de gestion patrimoniale des réseaux d’eau potable cet indicateur évalue sur une echelle de 0 a 100, a la fois le niveau de connaissance du réseau et des branchements et l’existence d’une politique de renouvellement pluri-annuelle du service d'eau potable - formule de calcul voir la fiche descriptive complete dans http www. services. eaufrance. fr/observatoire/indicateurs/p103. 2a indice d’avancement de la protection de la ressource en eau cet indicateur traduit l'avancement des démarches administratives et de terrain mises en ceuvre pour protéger les points de captage - formule de calcul moyenne pondérée de i'indice d’avancement de la protection de chaque ressource par le volume produit par la ressource taux d’occurrence des interruptions de service non programmeées cet indicateur sert€ mesurer la continuité du service d'eau potable en suivant le nombre de coupures d’eau impromptues pour lesquelles les abonnés concernés n’ont pas été prévenus au moins 24h a l'avance, rapporté a 1000 abonnés - formule de calcul nombre d'interruptions de service non programmées / nombre d'abonnés x 1000 indice linéaire de réparation l'indice linéaire de réparations évalue, en les rapportant a la longueur des canalisations hors branchements, les réparations effectuées sur les réseaux - formule de calcul nombre de ruptures sur conduites principales / linéaire de l’inventaire des collectivités uniquement canalisations indice lineaire de pertes moyenne journaliére des pertes rapportée a l’inventaire total des réseaux du périmétre rapport annuel 2018 sur le prix et la qualité du service d’eau potable - renvoi vers le glossaire- sdea. fr 12\n",
      "\n",
      "eau potable 2018311 ee territoire alsace centrale synthese des achats et ventes d’eau synthese de l'ensemble des volumes qui permet de calculer les indicateurs de rendement réseau, les indices linéaires de pertes et de volumes non comptees presentes dans la parties performance du réseau. op pg mn, oro ee ppp ae preleve produit 2027575 mé 2027575 m exporte 113354 m importe 0 m mis en distribution 1914221 m pertes ® 558591 m® autorise non compte 194000 m consomme facture 1161630 m synthese ars 2018 voir ci-aprés rapport annuel 2018 sur le prix et la qualité du service d’eau potable - renvoi vers le glossaire- sdea. fr 13\n",
      "\n",
      "eau potable 2018311 ee territoire alsace centrale liste des indicateurs et résultats d101. 0 estimation du nombre d'habitants desservis 19575 d102. 0 prix ttc du service au m3 pour 120 m3 valeur au 01/01/20181, 53€ ttc d151. 0 délai maximal d'ouverture des branchements pour les nouveaux abonnés défini par le service 48h aux de conformité des prélevements sur les eaux distribuées réalisés au titre du contrdle sanitaire par rapport aux limites de qualité pour ce qui concerne la microbiologie p1044 ou pour les services desservant moins de 5000 habitants et produisant moins de 1000 m3/j 46 nombre de prélevements aux fins d'analyses microbiologiques effectués dans l'année nombre de prelevements non conformes parmi ceux-ci aux de conformité des prélevements sur les eaux distribuées réalisés au titre du contrdéle sanitaire par rapport aux limites de qualité pour ce qui concerne les parametres physico-chimiques 100% ou pour les services desservant moins de 5000 habitants et produisant moins de 1000 m3/j chimiques effectués dans l'année p48 p103. 2 indice de connaissance et de gestion patrimoniale des réseaux d'eau potable 105 p102. 146 zz 3 q to om ds wd 3 sd -- n ” ® cc x sd n q ® s o n © n ” to a oo z o 3 o oe q en os ® © 3 s - a d  s q o o ~— 5 © n © “ 3 q cc x q. p104. 3 rendement du réseau de distribution 72% p105. 3 indice linéaire des volumes non comptés m3/km/j 19, 9 m /km/j p106. 3 indice linéaire de pertes en réseau m3/km/j 14, 8 m /km/j zz o p107. 2 taux moyen de renouvellement des réseaux d'eau potable p108. 3 indice d’avancement de la protection de la ressource en eau 80% p109. 0 montant des abandons de créances ou des versements a un fond de solidarité 143€ p151. 1 taux d’occurrence des interruptions de service non programmeées 2, 84% o p152. 1 taux de respect du délai maximal d’ouverture des branchements pour les nouveaux abonnés 100% p153. 2 durée d’extinction de la dette de la collectivité 0, 3 an p154. 0 /taux d'impayés sur les factures d’eau de l'année precedente 2, 13% p155. 1 /taux de réclamations 0, 15% bo rapport annuel 2018 sur le prix et la qualité du service d’eau potable - renvoi vers le glossaire- sdea. fr 14\n",
      "\n",
      "eau potable 2018311 ee territoire alsace centrale ruptures 2018 selestat rue du thannenkirch branchement 19/03/2018 rapport annuel 2018 sur le prix et la qualité du service d’eau potable - renvoi vers le glossaire- sdea. fr 15\n",
      "\n",
      "eau potable 2018311 ee territoire alsace centrale selestat au dieweg branchement 19/10/2018 rapport annuel 2018 sur le prix et la qualité du service d’eau potable - renvoi vers le glossaire- sdea. fr 16\n",
      "\n",
      "eee =e a syndicat des eaux et de’assainissement alsace moselle sdea perimetre de selestat origine de l’eau la ville de sélestat 19181 habitants’est alimentée en eau par 1 forage. cette ressource en eau a été déclarée d'utilité publique le 09 octobre 2000 et dispose de périmétres de protection. le réseau d’eau potable est exploité par le syndicat des eaux et de l’assainissement alsace moselle sdea depuis le 1 “ janvier 2018. l’eau fait objet d’un traitement de désinfection au chlore avant sa distribution. les prélevements d'eau sont réalisés au captage, au réservoir et sur le réseau de distribution. 1 population au 01/01/2011 données insee qualite de l’eau du robinet 49 prelevements d'eau ont été réalisés par le centre d'analyses et de recherches, laboratoire agréé par le ministere chargé de la santé. bacteriologie absence exigée de bacteéries indicatrices de pollution r uniquemer 44 analyses bactériologiques réalisées sur l'ensemble du réseau d’eau potable. eau d'eau frode 0 analyse non-conforme aux limites de qualité reglementaires. taux de conformité 100% eau de tres bonne qualité microbiologique. durete, ph référence de qualité ph 6, 5 a9 dureté 26, 2 f degré francais''ph 7, 6 eau dure calcaire et a l’equilibre ou legerement agressive et proche de’équilibre. nitrates limite de qualité 50 mg/i  teneur moyenne 11, 6 mg/  teneur maximale 12, 1 mg/ ces valeurs temoignent d'une ressource bien protégée des apports en nitrates. chlorures, sodium et fluor références de qualité. teneur moyenne en chlorures 100, 9 mg/ chlorures 250 mg/l ss résultats d analyses teneur moyenne en sodium 25, 1 mg/l sodium 200 mg/i upotable sante gouv fr teneur moyenne en fluor 0, 06 mg/i fluor 1, 5 mg/l pesticides limite de qualité 0, 1 ug/ les pesticides recherchés n'ont pas ete détectés. ile de santé grand est micropolluants — solvants — radioactivite — autres parametres peale du bas-rhin limite s de qualité propre s a chaque parametre juin les résultats pour les paramétres mesurés sont conformes aux limites de qualités en vigueur. t67-vsse ars. sante. fr conclusion sanitaire 57986 en 2018, l'eau produite et distribuée par le sdea - périmetre de selestat est conforme aux otolia. com limites de qualité bactériologiques et physico-chimiques en vigueur. cette fiche, destinée aux abonnés du service public de distribution de l’eau, peut étre reproduite sans suppression, ni ajout. dans les immeubles collectifs, elle doit étre distribuée 4 chaque locataire ou affichée. re d'analyses eflecluées pour le controle saniaire dépend du nombre d’habitants desservis et du debit de la ressource forage ou source, les prélévements sont réalisés 4 la ressource, 4 la production en sortic de station de traitement par exemple et. sur le zu d  distribution réservoir de stockage et robinet du consommateur. ver potenticl pour la sanié des personnes ualite bacteriologique elle est évaluée par la tion révéle une contamination survecnue soil au niveau source soil en cours de transport, une absence de nt, un dysfonctionnement momentané des installations de nt d'eau ou une insulfisance d'entretien des ouvrages esticides la présence de pesticides dans les ressources d'une mauvaise maitrise des produits utilisés pour f les récoltes ou pour désherber, par précaution, la valeur aire, res basse, est inférteure au x seuil s de toxicité. rsenic arsenic est un lément d'origine naturelle, ent répandu dans la crotte terrestre et present a l’tat de ans loule matiére vivante, c’est un élément classé comme i. il peut entrainer également des troubles cardio- scl neurologiques, ients metalliques il s’agit en particulier du cadmium, mercure, chrome, curvre, nickel et fer. leur “ el toxicologique dépend de leur forme chimique, de leur ion, du contexte environnemental et de la possibilité de dans le corps humuin. pres recommandations sanitaires rver la qualité de votre eau 5 gtre corrosive en sortie de''installation de traitement. mmité de l'eau est établic en comparant la concentration de certains paramétres 4 des limites de qualité ou a des références de qualité limite de qualité est une valeur seuil 4 respecter impérativement portant sur des parameétres microbiclogiques et chimiques constituant éérence de qualité est une valeur seuil salisfaire portant sur des parameires microbiologiques, chimiques el radiologiques, clablies a os fins de suivi des installations de production et de distribution d'eau. —= ee la dureté représente les concentrations en calcium t en magnésium présents naturellement dans l eau de la ressource. elle est sans incidence sur la santé. au contraire, le calcium et le magnesium jouecni um role important dans la physiclogie humaine et leur apport par lalimentation est essentiel. dans le cas dune eau ayant une dureté de moins de 10f, vinstallation d'un dispositif d’adoucissement de l'eau ne s justifie pas. sica le sodium est un metal trés réepandu dans la crodite terrestre. tl est toujours associé 4 d'autres éléments chimiques et principalement aux chlorures. cet élément vital participe ades fonctions physiclogiques essentielles, oe les chlorures, irés répandus dans la nature, sont des composes naturels des eaux. 11s sont peu toxiques mais peuvent 4 des doses élevécs nuire au gott de `` eau et favoriser la corrosion des canalisalions. busice le muor est un oligo-tlément présent naturellement dans eau. des doses modérées sont bénéfiques pour la santé, la valeur limie réglementaire a été fixée pour tenir compte du risque de nuorose dentaire trace sur émail des dents, lorsque cau est peu fluorée, une prévention ophimale de la cane dentaire passe par un apport complémentaire de cet élément sel huoré, dentifrice fluaré, comprimeés. ee organiqoues volatils cov les cov sont des molécules de la chimie de synthese, derivés des hydrocarbures, ou des éléments issus de la dégradation de ces molécules. les cov peuvent avoir, a long terme, des effets lerulogenes, mulavenes ou cunceropencs, les matériaux constitutifs de vos canalisations et les faire changer s'il y a du plomb et ne jamais raccorder l'installation électrique 4 la ie pour faire prise de terre. ce raccordement peut provoquer des phénomeénes électriques accentuant la corrosion des matériaux. dans 8, tl esl recommandeé de contacter un eleciricien professtonnel avant loule intervention. tement complémentaire purificateur, osmoscur cst installé, doit étre réguligrement entrctenu et réghé par un installateur afin quill n'y ait pas de risque de dégradation de la qualité microbiologique ou physico-chimique de l'eau lid ce dispositif, l’eau ne en savoir plus sur tous les résultats d’analyse du contréle sanitaire de l’eau sur www. eaupotable. sante. gouv. fr agence régionale de santé grand est - 3, boulevard joffre - co 80071- 54036 nancy cedex\n",
      "\n"
     ]
    }
   ],
   "source": [
    "text = \"\"\"\n",
    "EAU POTABLE 2018 311 ee TERRITOIRE ALSACE CENTRALE VOTRE COMMISSION LOCALE VOTRE PRESIDENT Francis FRANCK Au cours de l'année 2018 , la dynamique d'adhesions et d'intéegrations au SDEA s'est poursuivie , traduisant ainsi la confiance croissante exprimée a l'egard de notre outil commun par de nombreuses communes et établissements publics de coopération intercommunale EPC . Le SDEA compte ainsi désormais 668 communes membres au total , fedérant plus de 1 000 000 d'habitants . Ces adhesions , dans les domaines historiques de I'Eau Potable et |'Assainissement , mais aussi dans le domaine plus recent du Grand Cycle de I'Eau , permettent a la fois une capacité renforcee de mutualisation au SDEA au benéfice de tous nos usagers , et une opportunite de repondre aux enjeux de l'eau dans les différents territoires , en partenariat avec les intercommunalités et les acteurs cles . Dans le contexte marque par le changement climatique et les nouveaux défis environnementaux nécessitant une approche encore plus intégree du cycle de l'eau , il s'agit egalement de conforter I'excellence technique et économique de l'ensemble des interventions du SDEA au service de l'interét general . D'importantes economies sont ainsi obtenues permettant de réinvestir d'autant plus dans le renouvellement et l'amélioration du patrimoine local . VOS USAGERS PERIMETRE oe 4936 abonnés 19575 habitants desservis Périmétre créé le 01/01/2018 Membre du SDEA depuis 01/01/2018 VOS VOLUMES 1161630 m consommés 59 m* consommeés/habitant 235 m* consommés/abonné Rapport Annuel 2018 sur le Prix et la Qualité du Service d ’ Eau Potable - renvoi vers le glossaire- sdea.fr 1\n",
    "\n",
    "EAU POTABLE 2018 311 ee TERRITOIRE ALSACE CENTRALE VOTRE PATRIMOINE puits dont 1 puits non autorisé ne disposant pas de DUP Aucune source » 1 réservoir capacité totale de stockage 500 m ’ Aucune station de traitement 1 unité de désinfection » 103,698 km de conduites CARACTERISTIQUES DES OUVRAGES Capacité de production Capacité journaliére maxi 18 000 m*/jour Volume prélevé journalier moyen 5 555 m°/jour Taux de mobilisation jour moyen 31 % Volume prélevé journalier de pointe 6 535 m*/jour » Taux de mobilisation jour de pointe 36 % Capacite de stockage Volume utile des réservoirs 500 m Autonomie réservoir en moyenne 0,1 jour s » Nombre d ’ heures d ’ autonomie réservoir en pointe 2 h Indicateurs de performance Indice de connaissance et de gestion patrimoniale des reseaux d ’ eau potable Indice d ’ avancement de la protection de la ressource en eau Rapport Annuel 2018 sur le Prix et la Qualité du Service d ’ Eau Potable - renvoi vers le glossaire- sdea.fr 2\n",
    "\n",
    "EAU POTABLE 2018 311 ee TERRITOIRE ALSACE CENTRALE LA QUALITE DE VOTRE EAU CHIFFRES CLES Durete de l ’ eau °F Env . 26 Nitrates mg/l Env . 11 CONTROLE REGLEMENTAIRE ARS 2017 2018 Nombre de prelevements analyses microbiologiques total Nombre de prélévements analyses microbiologiques non conformes po oo Nombre de prélevements analyses physico-chimiques total Pour plus d ’ informations sur la qualité de l'eau , vous pouvez consulter la Synthese annuelle de l'Agence Regionale de la Sante sur http /Awww.sdea.fr/index.php/Usagers/L-eau-dans-la-commune.html Rapport Annuel 2018 sur le Prix et la Qualité du Service d ’ Eau Potable - renvoi vers le glossaire- sdea.fr 3\n",
    "\n",
    "EAU POTABLE 2018 311 ee TERRITOIRE ALSACE CENTRALE VOS DONNEES FINANCIERES PRIX DE VOTRE EAU Retrouvez ci-dessous les elements constitutifs du prix de l'eau sur votre périmétre Prix de l'eau par m pour 120 m norme INSEE Part fixe 37,44 €HT/an Part variable 0,733 €HT le m Redevance eau potable du périmetre 1,045 €HT par m pour 120 m Vv Vv V WV Prix du service eau potable , redevances Agence de I|'Eau et TVA comprises 1,53 €TTC par m pour 120 m 9 872 factures emises dans l ’ année Prix de l'eau par m pour 120 m =m Redevance Eau Potable TVA 5,5 % =m Redevance prélevement Redevance pollution domestique Affectation pour 100 € de recette Dépenses d'exploitation Remboursement de la dette a Autofinancement Rapport Annuel 2018 sur le Prix et la Qualité du Service d ’ Eau Potable - renvoi vers le glossaire- sdea.fr 4\n",
    "\n",
    "EAU POTABLE 2018 311 ee TERRITOIRE ALSACE CENTRALE Montant des investissements 500 000 € 400 000 € 300 000 € 200 000 € 100 000 € O€ O€ 2016 2017 2018 416 966 € En € HT/an Evolution des tarifs de l'eau 1,20 € 1,05 € 1,05 € 1,00 € 0,80 € 0,60 € 0,40 € 0,20 € 0,00 € En € HT/m 2016 2017 2018 Indicateurs financiers Durée d ’ extinction de la dette de la collectivité ND Capital restant dd Taux d ’ impayés sur factures d ’ eau de l'année precédente Montant des abandons de creances Taux de reclamations global 0,15 % 0 Le périmetre de Sélestat eau potable degage un résultat d'exploitation excédentaire de 862k€ . Les déepenses d'exploitation sont maitrisees et en dessous du budget prévisionnel . Concernant les recettes d'exploitation , elles sont superieures a celles budgétées et reprennent l'intégration du resultat de transfert a hauteur de 275k€ . Les travaux d'investissement sont integralement autofinancés par le périmetre . Le resultat de cloture pour l'année 2018 est excédentaire de prés de 550k€ € et la durée d'extinction de la dette inférieure a 1 an . Pour plus d ’ informations sur les redevances , vous pouvez consulter la note d'information annuelle de Agence de I ’ Eau Rhin-Meuse sur http // www.eau-rhin-meuse . fr Rapport Annuel 2018 sur le Prix et la Qualité du Service d ’ Eau Potable - renvoi vers le glossaire- sdea.fr 5\n",
    "\n",
    "EAU POTABLE 2018 311 ee TERRITOIRE ALSACE CENTRALE VOTRE RESEAU D ’ EAU POTABLE PRODUCTION - VENTES 2 500 000 2 000 000 m™ Volume d'eau non facturé/pertes c m= Volume autorisé non compté - 1500000 oO g Volume exporté 1000000 m Volume d'eau facturé aux gros consommateurs 500 000 m Volume d'eau facturé aux abonnés hors gros consommateurs 0 2016 2017 2018 INTERRUPTIONS DE SERVICE ET RUPTURES Indicateurs de performance 2018 Delai maximal d'ouverture des branchements pour les nouveaux abonnés deéfini/service 48h Taux d'occurrence des interruptions de service non programmeées 2,84 % 0 Taux de respect du délai maximal d'ouverture des branchements pour les nouveaux abonnes 100 % Vina Indice linéaire de réparation nb/km Année Indice linéaire des volumes non comptes m /km/j Rapport Annuel 2018 sur le Prix et la Qualité du Service d ’ Eau Potable - renvoi vers le glossaire- sdea.fr 6\n",
    "\n",
    "EAU POTABLE 2018 311 ee TERRITOIRE ALSACE CENTRALE APPAREIL DE DEFENSE CONTRE L'INCENDIE poteaux et hydrants 765 appareils 3réparations sur les poteaux d ’ incendie 1remplacement PARC DE COMPTEURS 5012 nombre total de compteurs 35 compteurs remplacés , soit 0,7 % du parc 97 % de compteurs radio-relevés NOMBRE DE RUPTURES REPAREES 45 41 40 35 30 m Nombre de ruptures 20 18 branchements 20 15 14 m Nombre de ruptures conduites principales 10 6 ee 0 2016 2017 2018 RENDEMENT ET ILP DES RESEAUX 80 72,7 72 72 20 « o oN 60 15 3 . 8 oO 4 ~~ oO Cc , c OM . © AO 10 5 2 5 35 0 3,0 SG 20 5 se O 33 —S 0 5 FF 2016 2017 2018 x Gam Rendement en % em dice linéaire de pertes en réseau Rapport Annuel 2018 sur le Prix et la Qualité du Service d ’ Eau Potable - renvoi vers le glossaire- sdea.fr 7\n",
    "\n",
    "EAU POTABLE 2018 311 ee TERRITOIRE ALSACE CENTRALE LES INVESTISSEMENTS SUR VOS RESEAUX ET OUVRAGES INTERVENTIONS PRINCIPALES SUR RESEAUX ET OUVRAGES Les travaux de rénovation et renforcement hydraulique des reseaux du Perimetre de Sélestat se sont poursuivis en 2018 a SELESTAT Rue du Cimetiere Renforcement du debit decennal - 520 ml DN 150 - Renouvellement de 30 branchements particulier . suite a programme de voirie Chemin de Scherwiller Extension du réseau d'assainissement - 180 ml DN100 Rue des Glycines Renovation du réseau d'eau potable - 190 ml DN 100 - Renouvellement de 13 branchements particulier . suite a programme de voirie . Les travaux de renovation et renforcement hydraulique des reseaux du Périmetre de Sélestat seront encore prolonges dans les 5 années a venir dans le cadre d'une programmation pluriannuelle . 2019 Rue Johann Strauss Renovation du réseau d'eau potable - 180 ML DN100 - Reprise de 17 branchements particuliers gestion patrimonial Rue de la Forét Renovation du reseau d'eau potable - 300 ml DN Reprise de 30 branchements particulier Rue Antoine Jean Jean Renovation du réseau d'eau potable - 170 ml - Reprise des 10 branchements particuliers Rue Renouvier Gouraud Renforcement du reseau eau potable - 140ml en DN 250 et 130ml en DN 150 - Reprise de 20 branchements particuliers Rue du Giessen Renforcement du réseau eau potable - 80 ml en DN150 et 80 ml en DN 100 EVOLUTION DES TRAVAUX SUR RESEAUX Gl Rénovation/amélioration de conduites principales 800 690 1 ay 2 600 c c o 400 05 5B E of S 200 oS © 0 oO 0 oO 0 o © 0 0 0 ¢€°0 O Cc wv ov 2016 2017 2018 `` 3 3 2 oO © Ml Extensions des conduites principales ese Taux moyen sur 5 ans de renouvellement des réseaux Rapport Annuel 2018 sur le Prix et la Qualité du Service d ’ Eau Potable - renvoi vers le glossaire- sdea.fr 8\n",
    "\n",
    "EAU POTABLE 2018 PERIMETRE DE SELESTAT TERRITOIRE ALSACE CENTRALE VOTRE ACTUALITE ZOOM SUR TRAVAUX EFFECTUES ET A VENIR Les principales operations programmees en 2019 concernent Travaux de renouvellement du réseau d'eau potable seuls gestion patrimoniale e rue Antoine Jean Jean , coit estimé 100 000 € HT e rue Johann Strauss , codt estimé 105 000 € HT e rue du Giessen partie , cout estime 95000 € HT Travaux de renouvellement du reseau d ’ eau potable en commun avec des travaux d ’ assainissement e rue Renouvier , rue Gouraud , cout estimé 150 000 € HT Travaux de renouvellement du réseau d'eau potable avant réfection lourde de voirie e rue dela Forét , coat estimé 200 000 € HT SELESTAT — Rue des Glycines Renforcement du réseau d ’ eau potable Rapport Annuel 2018 sur le Prix et la Qualité du Service d ’ Eau Potable - renvoi vers le glossaire- sdea.fr 9\n",
    "\n",
    "EAU POTABLE 2018 a TERRITOIRE ALSACE CENTRALE SELESTAT — Rue du Cimetiére Renforcement du réseau d ’ eau potable Rapport Annuel 2018 sur le Prix et la Qualité du Service d ’ Eau Potable - renvoi vers le glossaire- sdea.fr 10\n",
    "\n",
    "ere ale =11 83 A Gi PV . S 2a ns tc PORTEE DE N 2 veal Ss i cr ~— - oo 5 G10 GG a 2 ee S| LO 039 o U aja 402 6i- 21a . oropose UN acces aU 2 jee cal COMMENT TELECHARGER UAPPLICATION MOBILE SDEA Depuis une plateforme Android ou iOS , vous recherchez « SDEA » sur Play Store ou App Store et cliquez sur « Installer » . Le tour est joué , vous pouvez prévenir instantanément votre service public de l'eau en cas d'urgence . QUEL DYSFONCTIONNEMENT SIGNALER Une odeur ou un godt inhabituel de l'eau Une fuite d ’ eau ou un manque d ’ eau Une borne incendie endommagée ou une grille manquante Une inondation par refoulement des eaux usées Votre signalement bien été envoyeé Le SDEA en prendra connaissance dans les plus brefs délais Vous recevrez alors un accusé de réception par email En mages Prendre une DEVENEZ ACTEUR DU SERVICE DE UVEAU EN TOUTE SIMPLICITE , VOUS POUVEZ SIGNALER TROUVER vam lies mea 1 le SDEA pres dysfonctionnement de chez vous OBTENIR DES CONSEILS adaptés a vos besoins \\ CONTACTER Se SUT ge TdT -e 24h/24 , 75/7 CONSULTER les vidéos du SDEA ACCEDER a historique de vos signalements a Oba bry “ ll applicatior SDEA ces une iTo ih aielae appli mobile évoluera pour vous proposer bientdt de nouvelles fonctionnalités liées notamment a la gestion de l ’ abonnement reléve de l ’ index , suivi conso , paiement de la facture ainsi qu ’ a la prévention des inondations et coulées boueuses . Le SDEA prés de chez moi Rapport Annuel 2018 sur le Prix et la Qualité du Service d ’ Eau Potable - video Galerie vidéo Géret vos pléces jointes OK renvoi vers le glossaire- 11\n",
    "\n",
    "EAU POTABLE 2018 311 ee TERRITOIRE ALSACE CENTRALE GLOSSAIRE LISTE DES ABREVIATIONS ET DEFINITIONS EP Eau Potable ARS Agence Regionale de Sante AERM Agence de I ’ Eau Rhin-Meuse Pl Perimetre Intégre PP — Périmétre Partiellement Integre UD — Unite de distribution INDICATEURS DE PERFORMANCE - source http //www.services.eaufrance.fr/observatoire/indicateurs Indice de connaissance et de gestion patrimoniale des réseaux d ’ eau potable Cet indicateur évalue sur une echelle de 0 a 100 , a la fois le niveau de connaissance du réseau et des branchements et l ’ existence d ’ une politique de renouvellement pluri-annuelle du service d'eau potable - Formule de calcul Voir la fiche descriptive complete dans http //www.services.eaufrance.fr/observatoire/indicateurs/p103.2a Indice d ’ avancement de la protection de la ressource en eau Cet indicateur traduit l'avancement des démarches administratives et de terrain mises en ceuvre pour protéger les points de captage - Formule de calcul Moyenne pondérée de I|'Indice d ’ avancement de la protection de chaque ressource par le volume produit par la ressource Taux d ’ occurrence des interruptions de service non programmeées Cet indicateur sert € mesurer la continuité du service d'eau potable en suivant le nombre de coupures d ’ eau impromptues pour lesquelles les abonnés concernés n ’ ont pas été prévenus au moins 24h a l'avance , rapporté a 1000 abonnés - Formule de calcul Nombre d'interruptions de service non programmées / Nombre d'abonnés x 1000 Indice linéaire de réparation L'indice linéaire de réparations évalue , en les rapportant a la longueur des canalisations hors branchements , les réparations effectuées sur les réseaux - Formule de calcul Nombre de ruptures sur conduites principales / linéaire de l ’ inventaire des collectivités uniquement canalisations Indice lineaire de pertes Moyenne journaliére des pertes rapportée a |l ’ inventaire total des réseaux du périmétre Rapport Annuel 2018 sur le Prix et la Qualité du Service d ’ Eau Potable - renvoi vers le glossaire- sdea.fr 12\n",
    "\n",
    "EAU POTABLE 2018 311 ee TERRITOIRE ALSACE CENTRALE SYNTHESE DES ACHATS ET VENTES D ’ EAU Synthese de l'ensemble des volumes qui permet de calculer les indicateurs de rendement réseau , les indices linéaires de pertes et de volumes non comptees presentes dans la parties performance du réseau . OP Pg Mn , ORO ee PPP ae PRELEVE PRODUIT 2 027 575 mé 2 027 575 m EXPORTE 113 354 m IMPORTE 0 m* MIS EN DISTRIBUTION 1 914 221 m* PERTES ® 558 591 m® AUTORISE NON COMPTE 194 000 m CONSOMME FACTURE 1 161 630 m° SYNTHESE ARS 2018 voir ci-aprés Rapport Annuel 2018 sur le Prix et la Qualité du Service d ’ Eau Potable - renvoi vers le glossaire- sdea.fr 13\n",
    "\n",
    "EAU POTABLE 2018 311 ee TERRITOIRE ALSACE CENTRALE Liste des indicateurs et résultats D101.0 Estimation du nombre d'habitants desservis 19 575 D102.0 Prix TTC du service au m3 pour 120 m3 valeur au 01/01/2018 1,53 € TTC D151.0 Délai maximal d'ouverture des branchements pour les nouveaux abonnés défini par le service 48h aux de conformité des prélevements sur les eaux distribuées réalisés au titre du contrdle sanitaire par rapport aux limites de qualité pour ce qui concerne la microbiologie P1044 OU pour les services desservant moins de 5 000 habitants et produisant moins de 1 000 m3/j 46 Nombre de prélevements aux fins d'analyses microbiologiques effectués dans l'année Nombre de prelevements non conformes parmi Ceux-ci aux de conformité des prélevements sur les eaux distribuées réalisés au titre du contrdéle sanitaire par rapport aux limites de qualité pour ce qui concerne les parametres physico-chimiques 100 % Oo OU pour les services desservant moins de 5 000 habitants et produisant moins de 1 000 m3/j chimiques effectués dans l'année p48 P103.2 Indice de connaissance et de gestion patrimoniale des réseaux d'eau potable 105 P102.1 46 Zz Oo 3 oO Q To om Ds WD 3 SD -- n ” ® Cc x SD n Q ® S o n © n ” To a oO Oo Z O 3 o oe Q Oo en Os ® © 3 S - a D ° S Q O O ~— 5 © n Oo © “ 3 Q Cc x Q. P104.3 Rendement du réseau de distribution 72 % P105.3 |Indice linéaire des volumes non comptés m3/km/j 19,9 m /km/j P106.3 |Indice linéaire de pertes en réseau m3/km/j 14,8 m /km/j Zz O P107.2 |Taux moyen de renouvellement des réseaux d'eau potable P108.3 |Indice d ’ avancement de la protection de la ressource en eau 80 % P109.0 Montant des abandons de créances ou des versements a un fond de solidarité 143 € P151.1 Taux d ’ occurrence des interruptions de service non programmeées 2,84 % o P152.1 |Taux de respect du délai maximal d ’ ouverture des branchements pour les nouveaux abonnés 100 % P153.2 Durée d ’ extinction de la dette de la collectivité 0,3 an P154.0 /Taux d'impayés sur les factures d ’ eau de l'année precedente 2,13 % P155.1 /Taux de réclamations 0,15 % bo Rapport Annuel 2018 sur le Prix et la Qualité du Service d ’ Eau Potable - renvoi vers le glossaire- sdea.fr 14\n",
    "\n",
    "EAU POTABLE 2018 311 ee TERRITOIRE ALSACE CENTRALE RUPTURES 2018 SELESTAT Rue du Thannenkirch Branchement 19/03/2018 Rapport Annuel 2018 sur le Prix et la Qualité du Service d ’ Eau Potable - renvoi vers le glossaire- sdea.fr 15\n",
    "\n",
    "EAU POTABLE 2018 311 ee TERRITOIRE ALSACE CENTRALE SELESTAT Au Dieweg Branchement 19/10/2018 Rapport Annuel 2018 sur le Prix et la Qualité du Service d ’ Eau Potable - renvoi vers le glossaire- sdea.fr 16\n",
    "\n",
    "eee =e a Syndicat des Eaux et de ’ Assainissement Alsace Moselle SDEA Perimetre de SELESTAT ORIGINE DE L ’ EAU La Ville de Sélestat 19181 habitants ’ est alimentée en eau par 1 forage . Cette ressource en eau a été déclarée d'utilité publique le 09 octobre 2000 et dispose de périmétres de protection . Le réseau d ’ eau potable est exploité par le Syndicat des Eaux et de |l ’ Assainissement Alsace Moselle SDEA depuis le 1 “ janvier 2018 . L ’ eau fait objet d ’ un traitement de désinfection au chlore avant sa distribution . Les prélevements d'eau sont réalisés au captage , au réservoir et sur le réseau de distribution . 1 population au 01/01/2011 données INSEE QUALITE DE L ’ EAU DU ROBINET 49 prelevements d'eau ont été réalisés par le Centre d'Analyses et de Recherches , laboratoire agréé par le ministere chargé de la santé . BACTERIOLOGIE Absence exigée de bacteéries indicatrices de pollution r uniquemer 44 analyses bactériologiques réalisées sur l'ensemble du réseau d ’ eau potable . eau d'eau frode 0 analyse non-conforme aux limites de qualité reglementaires . Taux de conformité 100 % Eau de tres bonne qualité microbiologique . DURETE , PH Référence de qualité pH 6,5 a9 Dureté 26,2 °f degré francais '' pH 7,6 Eau dure calcaire et a l ’ equilibre ou legerement agressive et proche de ’ équilibre . NITRATES Limite de qualité 50 mg/I » Teneur moyenne 11,6 mg/| » Teneur maximale 12,1 mg/| Ces valeurs temoignent d'une ressource bien protégée des apports en nitrates . CHLORURES , SODIUM ET FLUOR Références de qualité . Teneur moyenne en chlorures 100,9 mg/| Chlorures 250 mg/l Ss résultats d analyses Teneur moyenne en sodium 25,1 mg/l Sodium 200 mg/I upotable sante gouv fr Teneur moyenne en fluor 0,06 mg/I Fluor 1,5 mg/l PESTICIDES Limite de qualité 0,1 ug/ Les pesticides recherchés n'ont pas ete détectés . ile de Santé Grand Est MICROPOLLUANTS — SOLVANTS — RADIOACTIVITE — AUTRES PARAMETRES Peale du Bas-Rhin Limite s de qualité propre s a chaque parametre Juin Les résultats pour les paramétres mesurés sont conformes aux limites de qualités en vigueur . t67-vsse ars.sante.fr CONCLUSION SANITAIRE 5 79 86 En 2018 , l'eau produite et distribuée par le SDEA - Périmetre de SELESTAT est conforme aux otolia.com limites de qualité bactériologiques et physico-chimiques en vigueur . Cette fiche , destinée aux abonnés du service public de distribution de l ’ eau , peut étre reproduite sans suppression , ni ajout . Dans les immeubles collectifs , elle doit étre distribuée 4 chaque locataire ou affichée .\n",
    "\n",
    "re d'analyses eflecluées pour le controle saniaire dépend du nombre d ’ habitants desservis et du debit de la ressource forage ou source , Les prélévements sont réalisés 4 la ressource , 4 la production en sortic de station de traitement par exemple et.sur le zu d ¢ distribution réservoir de stockage et robinet du consommateur . ver potenticl pour la sanié des personnes UALITE BACTERIOLOGIQUE elle est évaluée par la tion révéle une contamination survecnue soil au niveau source soil en cours de transport , Une absence de nt , un dysfonctionnement momentané des installations de nt d'eau ou une insulfisance d'entretien des ouvrages ESTICIDES la présence de pesticides dans les ressources d'une mauvaise maitrise des produits utilisés pour f les récoltes ou pour désherber , Par précaution , la valeur aire , res basse , est inférteure au x seuil s de toxicité .RSENIC arsenic est un ¢lément d'origine naturelle , ent répandu dans la crotte terrestre et present a l ’ ¢tat de ans loule matiére vivante , C ’ est un élément classé comme i . IL peut entrainer également des troubles cardio- scl neurologiques , IENTS METALLIQUES il s ’ agit en particulier du cadmium , mercure , chrome , curvre , nickel et fer . Leur “ el toxicologique dépend de leur forme chimique , de leur ion , du contexte environnemental et de la possibilité de dans le corps humuin . PRES RECOMMANDATIONS SANITAIRES rver la qualité de votre eau 5 Gtre corrosive en sortie de '' installation de traitement . mmité de l'eau est établic en comparant la concentration de certains paramétres 4 des limites de qualité ou a des références de qualité limite de qualité est une valeur seuil 4 respecter impérativement portant sur des parameétres microbiclogiques et chimiques constituant éérence de qualité est une valeur seuil salisfaire portant sur des parameires microbiologiques , chimiques el radiologiques , clablies a os fins de suivi des installations de production et de distribution d'eau . —= ee la dureté représente les concentrations en calcium ¢t en magnésium présents naturellement dans l eau de la ressource . Elle est sans incidence sur la santé . Au contraire , le calcium et le magnesium jouecni um role important dans la physiclogie humaine et leur apport par lalimentation est essentiel . Dans le cas d*une eau ayant une dureté de moins de 10°F , Vinstallation d'un dispositif d ’ adoucissement de l'eau ne s¢ justifie pas . Sica le sodium est un metal trés réepandu dans la crodite terrestre . Tl est toujours associé 4 d'autres éléments chimiques et principalement aux chlorures . Cet élément vital participe ades fonctions physiclogiques essentielles , oe les chlorures , irés répandus dans la nature , sont des composes naturels des eaux . 11s sont peu toxiques mais peuvent 4 des doses élevécs nuire au gott de `` eau et favoriser la corrosion des canalisalions . Busice le Muor est un oligo-tlément présent naturellement dans eau . Des doses modérées sont bénéfiques pour la santé , La valeur limie réglementaire a été fixée pour tenir compte du risque de Nuorose dentaire trace sur émail des dents , Lorsque cau est peu fluorée , une prévention ophimale de la cane dentaire passe par un apport complémentaire de cet élément sel Huoré , dentifrice fluaré , comprimeés . ee ORGANIQOUES VOLATILS COV les COV sont des molécules de la chimie de synthese , derivés des hydrocarbures , ou des éléments issus de la dégradation de ces molécules . Les COV peuvent avoir , a long terme , des effets lerulogenes , mulavenes ou Cunceropencs , ¢ les matériaux constitutifs de vos canalisations et les faire changer s'il y a du plomb et ne jamais raccorder l'installation électrique 4 la ie pour faire prise de terre . Ce raccordement peut provoquer des phénomeénes électriques accentuant la corrosion des matériaux . Dans 8 , tl esl recommandeé de contacter un eleciricien professtonnel avant loule intervention . tement complémentaire purificateur , osmoscur cst installé , « doit étre réguligrement entrctenu et réghé par un installateur afin quill n ' y ait pas de risque de dégradation de la qualité microbiologique ou physico-chimique de l'eau lid ce dispositif , L ’ eau ne En savoir plus sur tous les résultats d ’ analyse du contréle sanitaire de l ’ eau sur www.eaupotable.sante.gouv.fr Agence Régionale de Santé Grand Est - 3 , boulevard Joffre - CO 80071- 54 036 NANCY CEDEX\n",
    "\"\"\"\n",
    "text = prepro(text)\n",
    "\n",
    "questions = [\n",
    "#                 \"Combien de communes membres dans SDEA ?\",\n",
    "#                 \"Depuis quand le président est membre de SDEA ?\",\n",
    "#                 \"Quel est le volume total consommé dans SDEA ?\",\n",
    "#                 \"Quel est la consommation du volume par habitant ?\",\n",
    "#                 \"quel est la capacité de production ?\",\n",
    "#                 \"Quel est le taux de mobilisation jour moyen ?\",\n",
    "#                 \"quel est le taux de conformité physico-chimique ?\",\n",
    "#                 \"quel est le taux d'occurrence des interruptions de service non programmées ?\",\n",
    "#                 \"Combien d'appareil de defense contre l'incendie existe ?\",\n",
    "#                 \"Quel est le rendement du réseau de distribution ?\",\n",
    "#                 \"Quel est le taux de comfirimité des bacteriologie ?\",\n",
    "#                 \"Qu'est ce que signifie le taux d’occurrence des interruptions de service non programmées ?\",\n",
    "#                 \"Qu'est ce que signifie l'indice d’avancement de la protection de la ressource en eau ?\",\n",
    "# #                 \"Quelle est la capacité totale de stockage d'un résevoir ?\",\n",
    "#                 \"Quel est le volume utile des résevoirs ?\",\n",
    "#                 \"Quel est l'indice d’avancement de la protection de la ressource en eau en 2018 ?\",\n",
    "#                 \"quelle est l'autonomie de réservoir ?\",\n",
    "#                 \"quelle est le taux de conformité physico-chimique en 2017 ?\",\n",
    "                    \"Quel est le taux d’impayés sur factures d’eau de l’année précédente en 2017 ?\",\n",
    "    \"Quel est le taux de réclamations global en 2017 ?\",\n",
    "    \"Quel est l'indice linéaire des volumes non comptés ?\",\n",
    "    \"Combien de compteurs remplacés dans le parc ?\",\n",
    "    \"Quels sont travaux de renouvellement du réseau d’eau potable avant réfection lourde de voirie ?\",\n",
    "    \"Qu'est ce que signifie AERM ?\",\n",
    "    \"Quel est le taux de réclamations ?\",\n",
    "    \"Quel est le rendement du réseau de distribution ?\"\n",
    "            ]\n",
    "\n",
    "print(text)"
   ]
  },
  {
   "cell_type": "code",
   "execution_count": 59,
   "metadata": {},
   "outputs": [
    {
     "name": "stderr",
     "output_type": "stream",
     "text": [
      "Token indices sequence length is longer than the specified maximum sequence length for this model (5668 > 512). Running this sequence through the model will result in indexing errors\n"
     ]
    },
    {
     "name": "stdout",
     "output_type": "stream",
     "text": [
      "La question est: Quel est le taux d’impayés sur factures d’eau de l’année précédente en 2017 ?\n"
     ]
    },
    {
     "name": "stderr",
     "output_type": "stream",
     "text": [
      "Token indices sequence length is longer than the specified maximum sequence length for this model (5668 > 512). Running this sequence through the model will result in indexing errors\n"
     ]
    },
    {
     "name": "stdout",
     "output_type": "stream",
     "text": [
      "La résponse est: <s>\n",
      "La question est: Quel est le taux de réclamations global en 2017 ?\n"
     ]
    },
    {
     "name": "stderr",
     "output_type": "stream",
     "text": [
      "Token indices sequence length is longer than the specified maximum sequence length for this model (5668 > 512). Running this sequence through the model will result in indexing errors\n"
     ]
    },
    {
     "name": "stdout",
     "output_type": "stream",
     "text": [
      "La résponse est: 0, 15% 0\n",
      "La question est: Quel est l'indice linéaire des volumes non comptés ?\n"
     ]
    },
    {
     "name": "stderr",
     "output_type": "stream",
     "text": [
      "Token indices sequence length is longer than the specified maximum sequence length for this model (5668 > 512). Running this sequence through the model will result in indexing errors\n"
     ]
    },
    {
     "name": "stdout",
     "output_type": "stream",
     "text": [
      "La résponse est: m3/km/j 19, 9 m /km/j\n",
      "La question est: Combien de compteurs remplacés dans le parc ?\n",
      "La résponse est: 1\n",
      "La question est: Quels sont travaux de renouvellement du réseau d’eau potable avant réfection lourde de voirie ?\n"
     ]
    },
    {
     "name": "stderr",
     "output_type": "stream",
     "text": [
      "Token indices sequence length is longer than the specified maximum sequence length for this model (5668 > 512). Running this sequence through the model will result in indexing errors\n"
     ]
    },
    {
     "name": "stdout",
     "output_type": "stream",
     "text": [
      "La résponse est: <s>\n",
      "La question est: Qu'est ce que signifie AERM ?\n"
     ]
    },
    {
     "name": "stderr",
     "output_type": "stream",
     "text": [
      "Token indices sequence length is longer than the specified maximum sequence length for this model (5668 > 512). Running this sequence through the model will result in indexing errors\n",
      "Token indices sequence length is longer than the specified maximum sequence length for this model (5668 > 512). Running this sequence through the model will result in indexing errors\n"
     ]
    },
    {
     "name": "stdout",
     "output_type": "stream",
     "text": [
      "La résponse est: perimetre de selestat\n",
      "La question est: Quel est le taux de réclamations ?\n"
     ]
    },
    {
     "name": "stderr",
     "output_type": "stream",
     "text": [
      "Token indices sequence length is longer than the specified maximum sequence length for this model (5668 > 512). Running this sequence through the model will result in indexing errors\n"
     ]
    },
    {
     "name": "stdout",
     "output_type": "stream",
     "text": [
      "La résponse est: 0, 15% 0\n",
      "La question est: Quel est le rendement du réseau de distribution ?\n",
      "La résponse est: 72%\n"
     ]
    }
   ],
   "source": [
    "for q in questions:\n",
    "    print(\"La question est: \"+q)\n",
    "    print(\"La résponse est: \"+select_answer(question = q,text = text))"
   ]
  },
  {
   "cell_type": "raw",
   "metadata": {},
   "source": [
    "# Encode text = text representation\n",
    "inp = tokenizer.encode(question, text, add_special_tokens=True)\n",
    "input_ids = torch.tensor([tokenizer.encode(question\n",
    "                                           , text\n",
    "                                           , add_special_tokens=True\n",
    "                                          )])\n",
    "with torch.no_grad():\n",
    "    last_hidden_states = camembert(input_ids)[0]  # Models outputs are now tuples\n",
    "    print(last_hidden_states)\n",
    "    print(torch.max(last_hidden_states))  #.item())\n",
    "    print(torch.min(last_hidden_states).item())\n",
    "\n",
    "all_tokens = tokenizer.convert_ids_to_tokens(inp)\n",
    "start_scores, end_scores = camembert(input_ids)\n",
    "# print(all_tokens)\n",
    "# display(all_tokens,input_ids)\n",
    "start = torch.argmax(start_scores)\n",
    "end = torch.argmax(end_scores)+1\n",
    "answer = ''.join(all_tokens[start:end]).replace('▁',' ').strip()\n",
    "print(answer)"
   ]
  },
  {
   "cell_type": "raw",
   "metadata": {},
   "source": [
    "def display(tokens, ids):              # Display token vs id\n",
    "    for token, id in zip(tokens, ids):\n",
    "        if id == tokenizer.sep_token_id:\n",
    "            print('')\n",
    "        print('{:<12} {:>6,}'.format(token, id))\n",
    "        if id == tokenizer.sep_token_id:\n",
    "            print('')"
   ]
  }
 ],
 "metadata": {
  "kernelspec": {
   "display_name": "Python 3",
   "language": "python",
   "name": "python3"
  },
  "language_info": {
   "codemirror_mode": {
    "name": "ipython",
    "version": 3
   },
   "file_extension": ".py",
   "mimetype": "text/x-python",
   "name": "python",
   "nbconvert_exporter": "python",
   "pygments_lexer": "ipython3",
   "version": "3.7.3"
  }
 },
 "nbformat": 4,
 "nbformat_minor": 4
}
